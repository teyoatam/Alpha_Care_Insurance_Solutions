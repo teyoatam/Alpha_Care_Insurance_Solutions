{
 "cells": [
  {
   "cell_type": "code",
   "execution_count": 4,
   "metadata": {},
   "outputs": [],
   "source": [
    "import pandas as pd\n",
    "import numpy as np\n",
    "import matplotlib.pyplot as plt\n",
    "from scipy.stats import chi2_contingency\n",
    "import seaborn as sns\n",
    "import scipy.stats as stats"
   ]
  },
  {
   "cell_type": "code",
   "execution_count": 2,
   "metadata": {},
   "outputs": [
    {
     "data": {
      "text/html": [
       "<div>\n",
       "<style scoped>\n",
       "    .dataframe tbody tr th:only-of-type {\n",
       "        vertical-align: middle;\n",
       "    }\n",
       "\n",
       "    .dataframe tbody tr th {\n",
       "        vertical-align: top;\n",
       "    }\n",
       "\n",
       "    .dataframe thead th {\n",
       "        text-align: right;\n",
       "    }\n",
       "</style>\n",
       "<table border=\"1\" class=\"dataframe\">\n",
       "  <thead>\n",
       "    <tr style=\"text-align: right;\">\n",
       "      <th></th>\n",
       "      <th>UnderwrittenCoverID</th>\n",
       "      <th>PolicyID</th>\n",
       "      <th>TransactionMonth</th>\n",
       "      <th>IsVATRegistered</th>\n",
       "      <th>Citizenship</th>\n",
       "      <th>LegalType</th>\n",
       "      <th>Title</th>\n",
       "      <th>Language</th>\n",
       "      <th>Bank</th>\n",
       "      <th>AccountType</th>\n",
       "      <th>...</th>\n",
       "      <th>ExcessSelected</th>\n",
       "      <th>CoverCategory</th>\n",
       "      <th>CoverType</th>\n",
       "      <th>CoverGroup</th>\n",
       "      <th>Section</th>\n",
       "      <th>Product</th>\n",
       "      <th>StatutoryClass</th>\n",
       "      <th>StatutoryRiskType</th>\n",
       "      <th>TotalPremium</th>\n",
       "      <th>TotalClaims</th>\n",
       "    </tr>\n",
       "  </thead>\n",
       "  <tbody>\n",
       "    <tr>\n",
       "      <th>0</th>\n",
       "      <td>145249</td>\n",
       "      <td>12827</td>\n",
       "      <td>2015-03-01 00:00:00</td>\n",
       "      <td>True</td>\n",
       "      <td></td>\n",
       "      <td>Close Corporation</td>\n",
       "      <td>Mr</td>\n",
       "      <td>English</td>\n",
       "      <td>First National Bank</td>\n",
       "      <td>Current account</td>\n",
       "      <td>...</td>\n",
       "      <td>Mobility - Windscreen</td>\n",
       "      <td>Windscreen</td>\n",
       "      <td>Windscreen</td>\n",
       "      <td>Comprehensive - Taxi</td>\n",
       "      <td>Motor Comprehensive</td>\n",
       "      <td>Mobility Metered Taxis: Monthly</td>\n",
       "      <td>Commercial</td>\n",
       "      <td>IFRS Constant</td>\n",
       "      <td>21.929825</td>\n",
       "      <td>0.0</td>\n",
       "    </tr>\n",
       "    <tr>\n",
       "      <th>1</th>\n",
       "      <td>145249</td>\n",
       "      <td>12827</td>\n",
       "      <td>2015-05-01 00:00:00</td>\n",
       "      <td>True</td>\n",
       "      <td></td>\n",
       "      <td>Close Corporation</td>\n",
       "      <td>Mr</td>\n",
       "      <td>English</td>\n",
       "      <td>First National Bank</td>\n",
       "      <td>Current account</td>\n",
       "      <td>...</td>\n",
       "      <td>Mobility - Windscreen</td>\n",
       "      <td>Windscreen</td>\n",
       "      <td>Windscreen</td>\n",
       "      <td>Comprehensive - Taxi</td>\n",
       "      <td>Motor Comprehensive</td>\n",
       "      <td>Mobility Metered Taxis: Monthly</td>\n",
       "      <td>Commercial</td>\n",
       "      <td>IFRS Constant</td>\n",
       "      <td>21.929825</td>\n",
       "      <td>0.0</td>\n",
       "    </tr>\n",
       "    <tr>\n",
       "      <th>2</th>\n",
       "      <td>145249</td>\n",
       "      <td>12827</td>\n",
       "      <td>2015-07-01 00:00:00</td>\n",
       "      <td>True</td>\n",
       "      <td></td>\n",
       "      <td>Close Corporation</td>\n",
       "      <td>Mr</td>\n",
       "      <td>English</td>\n",
       "      <td>First National Bank</td>\n",
       "      <td>Current account</td>\n",
       "      <td>...</td>\n",
       "      <td>Mobility - Windscreen</td>\n",
       "      <td>Windscreen</td>\n",
       "      <td>Windscreen</td>\n",
       "      <td>Comprehensive - Taxi</td>\n",
       "      <td>Motor Comprehensive</td>\n",
       "      <td>Mobility Metered Taxis: Monthly</td>\n",
       "      <td>Commercial</td>\n",
       "      <td>IFRS Constant</td>\n",
       "      <td>0.000000</td>\n",
       "      <td>0.0</td>\n",
       "    </tr>\n",
       "    <tr>\n",
       "      <th>3</th>\n",
       "      <td>145255</td>\n",
       "      <td>12827</td>\n",
       "      <td>2015-05-01 00:00:00</td>\n",
       "      <td>True</td>\n",
       "      <td></td>\n",
       "      <td>Close Corporation</td>\n",
       "      <td>Mr</td>\n",
       "      <td>English</td>\n",
       "      <td>First National Bank</td>\n",
       "      <td>Current account</td>\n",
       "      <td>...</td>\n",
       "      <td>Mobility - Metered Taxis - R2000</td>\n",
       "      <td>Own damage</td>\n",
       "      <td>Own Damage</td>\n",
       "      <td>Comprehensive - Taxi</td>\n",
       "      <td>Motor Comprehensive</td>\n",
       "      <td>Mobility Metered Taxis: Monthly</td>\n",
       "      <td>Commercial</td>\n",
       "      <td>IFRS Constant</td>\n",
       "      <td>512.848070</td>\n",
       "      <td>0.0</td>\n",
       "    </tr>\n",
       "    <tr>\n",
       "      <th>4</th>\n",
       "      <td>145255</td>\n",
       "      <td>12827</td>\n",
       "      <td>2015-07-01 00:00:00</td>\n",
       "      <td>True</td>\n",
       "      <td></td>\n",
       "      <td>Close Corporation</td>\n",
       "      <td>Mr</td>\n",
       "      <td>English</td>\n",
       "      <td>First National Bank</td>\n",
       "      <td>Current account</td>\n",
       "      <td>...</td>\n",
       "      <td>Mobility - Metered Taxis - R2000</td>\n",
       "      <td>Own damage</td>\n",
       "      <td>Own Damage</td>\n",
       "      <td>Comprehensive - Taxi</td>\n",
       "      <td>Motor Comprehensive</td>\n",
       "      <td>Mobility Metered Taxis: Monthly</td>\n",
       "      <td>Commercial</td>\n",
       "      <td>IFRS Constant</td>\n",
       "      <td>0.000000</td>\n",
       "      <td>0.0</td>\n",
       "    </tr>\n",
       "  </tbody>\n",
       "</table>\n",
       "<p>5 rows × 52 columns</p>\n",
       "</div>"
      ],
      "text/plain": [
       "   UnderwrittenCoverID  PolicyID     TransactionMonth  IsVATRegistered  \\\n",
       "0               145249     12827  2015-03-01 00:00:00             True   \n",
       "1               145249     12827  2015-05-01 00:00:00             True   \n",
       "2               145249     12827  2015-07-01 00:00:00             True   \n",
       "3               145255     12827  2015-05-01 00:00:00             True   \n",
       "4               145255     12827  2015-07-01 00:00:00             True   \n",
       "\n",
       "  Citizenship          LegalType Title Language                 Bank  \\\n",
       "0              Close Corporation    Mr  English  First National Bank   \n",
       "1              Close Corporation    Mr  English  First National Bank   \n",
       "2              Close Corporation    Mr  English  First National Bank   \n",
       "3              Close Corporation    Mr  English  First National Bank   \n",
       "4              Close Corporation    Mr  English  First National Bank   \n",
       "\n",
       "       AccountType  ...                    ExcessSelected CoverCategory  \\\n",
       "0  Current account  ...             Mobility - Windscreen    Windscreen   \n",
       "1  Current account  ...             Mobility - Windscreen    Windscreen   \n",
       "2  Current account  ...             Mobility - Windscreen    Windscreen   \n",
       "3  Current account  ...  Mobility - Metered Taxis - R2000    Own damage   \n",
       "4  Current account  ...  Mobility - Metered Taxis - R2000    Own damage   \n",
       "\n",
       "    CoverType            CoverGroup              Section  \\\n",
       "0  Windscreen  Comprehensive - Taxi  Motor Comprehensive   \n",
       "1  Windscreen  Comprehensive - Taxi  Motor Comprehensive   \n",
       "2  Windscreen  Comprehensive - Taxi  Motor Comprehensive   \n",
       "3  Own Damage  Comprehensive - Taxi  Motor Comprehensive   \n",
       "4  Own Damage  Comprehensive - Taxi  Motor Comprehensive   \n",
       "\n",
       "                           Product StatutoryClass StatutoryRiskType  \\\n",
       "0  Mobility Metered Taxis: Monthly     Commercial     IFRS Constant   \n",
       "1  Mobility Metered Taxis: Monthly     Commercial     IFRS Constant   \n",
       "2  Mobility Metered Taxis: Monthly     Commercial     IFRS Constant   \n",
       "3  Mobility Metered Taxis: Monthly     Commercial     IFRS Constant   \n",
       "4  Mobility Metered Taxis: Monthly     Commercial     IFRS Constant   \n",
       "\n",
       "   TotalPremium TotalClaims  \n",
       "0     21.929825         0.0  \n",
       "1     21.929825         0.0  \n",
       "2      0.000000         0.0  \n",
       "3    512.848070         0.0  \n",
       "4      0.000000         0.0  \n",
       "\n",
       "[5 rows x 52 columns]"
      ]
     },
     "execution_count": 2,
     "metadata": {},
     "output_type": "execute_result"
    }
   ],
   "source": [
    "# Load the insurance data\n",
    "file_path ='../data/MachineLearningRating_v3.txt'\n",
    "data = pd.read_csv(file_path, sep='|', low_memory=False)\n",
    "data.head()"
   ]
  },
  {
   "cell_type": "markdown",
   "metadata": {},
   "source": [
    "##Data Segmentation"
   ]
  },
  {
   "cell_type": "code",
   "execution_count": 3,
   "metadata": {},
   "outputs": [],
   "source": [
    "\n",
    "# Group A: Male, Group B: Female\n",
    "group_A = data[data['Gender'] == 'Male']\n",
    "group_B = data[data['Gender'] == 'Female']"
   ]
  },
  {
   "cell_type": "code",
   "execution_count": 5,
   "metadata": {},
   "outputs": [],
   "source": [
    "\n",
    "# Ensure the groups are statistically equivalent on other attributes\n",
    "# Here we will check the equivalence of Age and Premiums\n",
    "def check_statistical_equivalence(group_A, group_B, feature):\n",
    "    stat, p_value = stats.ttest_ind(group_A[feature], group_B[feature], equal_var=False)\n",
    "    return stat, p_value"
   ]
  },
  {
   "cell_type": "code",
   "execution_count": 8,
   "metadata": {},
   "outputs": [
    {
     "name": "stdout",
     "output_type": "stream",
     "text": [
      "Claims T-test: Statistic = -0.296353891400699, p-value = 0.7669656471629474\n",
      "Premiums T-test: Statistic = -4.51932770903467, p-value = 6.289186903913685e-06\n"
     ]
    }
   ],
   "source": [
    "\n",
    "# Check statistical equivalence for Age and Premiums\n",
    "age_stat, age_p = check_statistical_equivalence(group_A, group_B, 'TotalClaims')\n",
    "premiums_stat, premiums_p = check_statistical_equivalence(group_A, group_B, 'TotalPremium')\n",
    "\n",
    "print(f\"Claims T-test: Statistic = {age_stat}, p-value = {age_p}\")\n",
    "print(f\"Premiums T-test: Statistic = {premiums_stat}, p-value = {premiums_p}\")"
   ]
  },
  {
   "cell_type": "code",
   "execution_count": 10,
   "metadata": {},
   "outputs": [
    {
     "name": "stdout",
     "output_type": "stream",
     "text": [
      "Claims T-test: Statistic = -0.296353891400699, p-value = 0.7669656471629474\n",
      "Premiums T-test: Statistic = -4.51932770903467, p-value = 6.289186903913685e-06\n",
      "Decision for Claims: Statistically Equivalent\n",
      "Decision for Premiums: Not Statistically Equivalent\n",
      "Groups are not statistically equivalent. Re-evaluate feature selection.\n"
     ]
    }
   ],
   "source": [
    "try:\n",
    "    claim_stat, claim_p = check_statistical_equivalence(group_A, group_B, 'TotalClaims')\n",
    "    premiums_stat, premiums_p = check_statistical_equivalence(group_A, group_B, 'TotalPremium')\n",
    "    \n",
    "    print(f\"Claims T-test: Statistic = {claim_stat}, p-value = {claim_p}\")\n",
    "    print(f\"Premiums T-test: Statistic = {premiums_stat}, p-value = {premiums_p}\")\n",
    "\n",
    "    # Set significance level\n",
    "    alpha = 0.05\n",
    "\n",
    "    # Make decisions based on p-values\n",
    "    def decision(p_value):\n",
    "        return \"Statistically Equivalent\" if p_value >= alpha else \"Not Statistically Equivalent\"\n",
    "\n",
    "    print(\"Decision for Claims:\", decision(claim_p))\n",
    "    print(\"Decision for Premiums:\", decision(premiums_p))\n",
    "\n",
    "    # If both features are statistically equivalent, proceed with segmentation\n",
    "    if claim_p >= alpha and premiums_p >= alpha:\n",
    "        print(\"Proceeding with segmentation...\")\n",
    "    else:\n",
    "        print(\"Groups are not statistically equivalent. Re-evaluate feature selection.\")\n",
    "\n",
    "except KeyError as e:\n",
    "    print(f\"KeyError: {e}. Check if the column exists in the DataFrame.\")"
   ]
  },
  {
   "cell_type": "markdown",
   "metadata": {},
   "source": [
    "##Statstical Testing"
   ]
  },
  {
   "cell_type": "code",
   "execution_count": 12,
   "metadata": {},
   "outputs": [
    {
     "name": "stdout",
     "output_type": "stream",
     "text": [
      "T-test for Claims: t-statistic = -0.296353891400699, p-value = 0.7669656471629474\n",
      "Fail to reject the null hypothesis: Gender does not have a significant impact on Claims.\n"
     ]
    }
   ],
   "source": [
    "# 1. T-test for Claims based on Gender\n",
    "# Ensure the 'Claims' and 'Gender' columns exist in your dataset\n",
    "if 'TotalClaims' in data.columns and 'Gender' in data.columns:\n",
    "    group_male = data[data['Gender'] == 'Male']['TotalClaims']\n",
    "    group_female = data[data['Gender'] == 'Female']['TotalClaims']\n",
    "\n",
    "    t_stat, p_value_claims = stats.ttest_ind(group_male, group_female, equal_var=False)\n",
    "\n",
    "    print(f\"T-test for Claims: t-statistic = {t_stat}, p-value = {p_value_claims}\")\n",
    "\n",
    "    # Analyze p-value for Claims\n",
    "    if p_value_claims < 0.05:\n",
    "        print(\"Reject the null hypothesis: Gender has a significant impact on Claims.\")\n",
    "    else:\n",
    "        print(\"Fail to reject the null hypothesis: Gender does not have a significant impact on Claims.\")\n",
    "else:\n",
    "    print(\"Columns 'Claims' or 'Gender' not found in the dataset.\")"
   ]
  },
  {
   "cell_type": "code",
   "execution_count": 13,
   "metadata": {},
   "outputs": [
    {
     "name": "stdout",
     "output_type": "stream",
     "text": [
      "Chi-squared test: chi2-statistic = 555.0998101643572, p-value = 1.0427552757946081e-114\n",
      "Reject the null hypothesis: Gender has a significant impact on Vehicle Type distribution.\n"
     ]
    }
   ],
   "source": [
    "\n",
    "# 2. Chi-squared test for Vehicle Type based on Gender\n",
    "# Ensure the 'VehicleType' column exists in your dataset\n",
    "if 'VehicleType' in data.columns and 'Gender' in data.columns:\n",
    "    contingency_table = pd.crosstab(data['Gender'], data['VehicleType'])\n",
    "    chi2_stat, chi2_p_value, _, _ = stats.chi2_contingency(contingency_table)\n",
    "\n",
    "    print(f\"Chi-squared test: chi2-statistic = {chi2_stat}, p-value = {chi2_p_value}\")\n",
    "\n",
    "    # Analyze p-value for Vehicle Type\n",
    "    if chi2_p_value < 0.05:\n",
    "        print(\"Reject the null hypothesis: Gender has a significant impact on Vehicle Type distribution.\")\n",
    "    else:\n",
    "        print(\"Fail to reject the null hypothesis: Gender does not have a significant impact on Vehicle Type distribution.\")\n",
    "else:\n",
    "    print(\"Columns 'VehicleType' or 'Gender' not found in the dataset.\")"
   ]
  },
  {
   "cell_type": "code",
   "execution_count": 16,
   "metadata": {},
   "outputs": [
    {
     "data": {
      "image/png": "[encoded data removed]",
      "text/plain": [
       "<Figure size 800x500 with 1 Axes>"
      ]
     },
     "metadata": {},
     "output_type": "display_data"
    },
    {
     "data": {
      "image/png": "[encoded data removed]",
      "text/plain": [
       "<Figure size 800x500 with 1 Axes>"
      ]
     },
     "metadata": {},
     "output_type": "display_data"
    }
   ],
   "source": [
    "\n",
    "# Visualizations\n",
    "# Box plot for Claims by Gender\n",
    "if 'TotalClaims' in data.columns and 'Gender' in data.columns:\n",
    "    plt.figure(figsize=(8, 5))\n",
    "    sns.boxplot(x='Gender', y='TotalClaims', data=data)\n",
    "    plt.title('Claims Distribution by Gender')\n",
    "    plt.show()\n",
    "\n",
    "# Count plot for Vehicle Type distribution by Gender\n",
    "if 'VehicleType' in data.columns and 'Gender' in data.columns:\n",
    "    plt.figure(figsize=(8, 5))\n",
    "    sns.countplot(x='VehicleType', hue='Gender', data=data)\n",
    "    plt.title('Vehicle Type Distribution by Gender')\n",
    "    plt.show()"
   ]
  },
  {
   "cell_type": "markdown",
   "metadata": {},
   "source": [
    "Analysis and Reporting of Statistical Outcomes\n",
    "1. Statistical Tests Conducted\n",
    "T-test for Claims by Gender: This test evaluated whether there is a significant difference in the claims submitted by male and female policyholders.\n",
    "Chi-squared Test for Vehicle Type Distribution by Gender: This test assessed whether the distribution of vehicle types varies significantly between male and female policyholders.\n",
    "2. Results Summary\n",
    "T-test for Claims:\n",
    "t-statistic: [Insert Value]\n",
    "p-value: [Insert Value]\n",
    "Decision: Based on the p-value:\n",
    "If p-value < 0.05: Reject the null hypothesis, indicating that gender has a significant impact on claims.\n",
    "If p-value ≥ 0.05: Fail to reject the null hypothesis, suggesting that gender does not have a significant impact on claims.\n",
    "Chi-squared Test for Vehicle Type:\n",
    "Chi-squared statistic: [Insert Value]\n",
    "p-value: [Insert Value]\n",
    "Decision: Based on the p-value:\n",
    "If p-value < 0.05: Reject the null hypothesis, indicating a significant association between gender and vehicle type.\n",
    "If p-value ≥ 0.05: Fail to reject the null hypothesis, indicating no significant association between gender and vehicle type.\n",
    "3. Findings Interpretation\n",
    "A. Claims Analysis\n",
    "Significant Impact of Gender:\n",
    "If the null hypothesis is rejected, this suggests that gender influences the claims made by policyholders. For instance, if females tend to submit higher claims than males, it may indicate differing risk profiles or behaviors.\n",
    "Business Strategy Implications:\n",
    "Risk Assessment: Adjust underwriting criteria and risk assessment models to account for gender differences in claims.\n",
    "Targeted Marketing: Develop marketing strategies that address the specific needs and behaviors of different genders, potentially leading to more tailored insurance products.\n",
    "B. Vehicle Type Distribution\n",
    "Significant Association:\n",
    "If the null hypothesis is rejected, it indicates that the type of vehicle owned varies by gender. For example, if males predominantly drive trucks and females drive sedans, this could inform product offerings.\n",
    "Business Strategy Implications:\n",
    "Product Development: Design and promote insurance products that cater specifically to the types of vehicles most commonly associated with each gender.\n",
    "Pricing Strategy: Consider gender-specific pricing models based on the risk profiles associated with different vehicle types.\n",
    "4. Impact on Customer Experience\n",
    "Personalization: Understanding the differences in claims behavior and vehicle type preferences by gender allows for more personalized customer interactions, improving customer satisfaction and retention.\n",
    "Customer Engagement: Tailoring communication and services based on gender-specific insights can enhance engagement and loyalty.\n",
    "5. Conclusion\n",
    "The statistical analysis provides critical insights into how gender influences claims behavior and vehicle type distribution. These findings can significantly impact business strategies, from risk assessment to marketing and customer engagement. By leveraging this information, the organization can enhance its offerings, improve customer experience, and ultimately drive better business outcomes.\n",
    "\n",
    "Recommendations for Future Analysis\n",
    "Further Segmentation: Analyze additional demographic factors (e.g., age, location) to gain a more nuanced understanding of customer behavior.\n",
    "Longitudinal Studies: Conduct longitudinal studies to track changes in claims behavior and vehicle preferences over time.\n",
    "Customer Feedback: Incorporate customer feedback mechanisms to understand the qualitative aspects of customer experience related to gender differences."
   ]
  }
 ],
 "metadata": {
  "kernelspec": {
   "display_name": "Python 3",
   "language": "python",
   "name": "python3"
  },
  "language_info": {
   "codemirror_mode": {
    "name": "ipython",
    "version": 3
   },
   "file_extension": ".py",
   "mimetype": "text/x-python",
   "name": "python",
   "nbconvert_exporter": "python",
   "pygments_lexer": "ipython3",
   "version": "3.12.5"
  }
 },
 "nbformat": 4,
 "nbformat_minor": 2
}
